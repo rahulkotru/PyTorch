{
 "cells": [
  {
   "cell_type": "code",
   "execution_count": 10,
   "metadata": {},
   "outputs": [],
   "source": [
    "import torch.nn as nn\n",
    "import numpy as np\n",
    "import torch"
   ]
  },
  {
   "cell_type": "code",
   "execution_count": 4,
   "metadata": {},
   "outputs": [],
   "source": [
    "inputs=np.array([[73,67,43],\n",
    "[91,88,64],\n",
    "[87,134,58],\n",
    "[102,43,37],\n",
    "[69,96,70]],dtype='float32')"
   ]
  },
  {
   "cell_type": "code",
   "execution_count": 7,
   "metadata": {},
   "outputs": [],
   "source": [
    "targets=np.array([[56,70],\n",
    "[81,101],\n",
    "[119,133],\n",
    "[22,37],\n",
    "[103,119]],dtype='float32')"
   ]
  },
  {
   "cell_type": "code",
   "execution_count": 11,
   "metadata": {},
   "outputs": [],
   "source": [
    "inputs=torch.from_numpy(inputs)\n",
    "targets=torch.from_numpy(targets)"
   ]
  },
  {
   "cell_type": "code",
   "execution_count": 12,
   "metadata": {},
   "outputs": [],
   "source": [
    "from torch.utils.data import TensorDataset"
   ]
  },
  {
   "cell_type": "code",
   "execution_count": 13,
   "metadata": {},
   "outputs": [
    {
     "data": {
      "text/plain": [
       "(tensor([[ 73.,  67.,  43.],\n",
       "         [ 91.,  88.,  64.],\n",
       "         [ 87., 134.,  58.]]),\n",
       " tensor([[ 56.,  70.],\n",
       "         [ 81., 101.],\n",
       "         [119., 133.]]))"
      ]
     },
     "execution_count": 13,
     "metadata": {},
     "output_type": "execute_result"
    }
   ],
   "source": [
    "train_ds=TensorDataset(inputs,targets)\n",
    "train_ds[0:3]"
   ]
  },
  {
   "cell_type": "code",
   "execution_count": 18,
   "metadata": {},
   "outputs": [],
   "source": [
    "from torch.utils.data import DataLoader"
   ]
  },
  {
   "cell_type": "code",
   "execution_count": 19,
   "metadata": {},
   "outputs": [],
   "source": [
    "batch_size=5\n",
    "train_dl=DataLoader(train_ds,batch_size,shuffle=True)"
   ]
  },
  {
   "cell_type": "code",
   "execution_count": 20,
   "metadata": {},
   "outputs": [
    {
     "name": "stdout",
     "output_type": "stream",
     "text": [
      "tensor([[ 91.,  88.,  64.],\n",
      "        [ 69.,  96.,  70.],\n",
      "        [ 87., 134.,  58.],\n",
      "        [102.,  43.,  37.],\n",
      "        [ 73.,  67.,  43.]])\n",
      "tensor([[ 81., 101.],\n",
      "        [103., 119.],\n",
      "        [119., 133.],\n",
      "        [ 22.,  37.],\n",
      "        [ 56.,  70.]])\n"
     ]
    }
   ],
   "source": [
    "for xb, yb in train_dl:\n",
    "    print(xb)\n",
    "    print(yb)"
   ]
  },
  {
   "cell_type": "code",
   "execution_count": 21,
   "metadata": {},
   "outputs": [
    {
     "name": "stdout",
     "output_type": "stream",
     "text": [
      "Parameter containing:\n",
      "tensor([[ 0.4403,  0.4471,  0.1624],\n",
      "        [-0.4983, -0.4033, -0.1553]], requires_grad=True)\n",
      "Parameter containing:\n",
      "tensor([-0.2742,  0.0544], requires_grad=True)\n"
     ]
    }
   ],
   "source": [
    "model=nn.Linear(3,2)\n",
    "print(model.weight)\n",
    "print(model.bias)"
   ]
  },
  {
   "cell_type": "code",
   "execution_count": 22,
   "metadata": {},
   "outputs": [
    {
     "data": {
      "text/plain": [
       "[Parameter containing:\n",
       " tensor([[ 0.4403,  0.4471,  0.1624],\n",
       "         [-0.4983, -0.4033, -0.1553]], requires_grad=True),\n",
       " Parameter containing:\n",
       " tensor([-0.2742,  0.0544], requires_grad=True)]"
      ]
     },
     "execution_count": 22,
     "metadata": {},
     "output_type": "execute_result"
    }
   ],
   "source": [
    "list(model.parameters())"
   ]
  },
  {
   "cell_type": "code",
   "execution_count": 23,
   "metadata": {},
   "outputs": [
    {
     "data": {
      "text/plain": [
       "tensor([[  68.8062,  -70.0204],\n",
       "        [  89.5307,  -90.7199],\n",
       "        [ 107.3635, -106.3462],\n",
       "        [  69.8693,  -73.8618],\n",
       "        [  84.3955,  -83.9143]], grad_fn=<AddmmBackward0>)"
      ]
     },
     "execution_count": 23,
     "metadata": {},
     "output_type": "execute_result"
    }
   ],
   "source": [
    "preds=model(inputs)\n",
    "preds"
   ]
  },
  {
   "cell_type": "code",
   "execution_count": 24,
   "metadata": {},
   "outputs": [],
   "source": [
    "import torch.nn.functional as F"
   ]
  },
  {
   "cell_type": "code",
   "execution_count": 25,
   "metadata": {},
   "outputs": [],
   "source": [
    "loss_fn=F.mse_loss"
   ]
  },
  {
   "cell_type": "code",
   "execution_count": 26,
   "metadata": {},
   "outputs": [
    {
     "name": "stdout",
     "output_type": "stream",
     "text": [
      "tensor(17012.3203, grad_fn=<MseLossBackward0>)\n"
     ]
    }
   ],
   "source": [
    "loss=loss_fn(model(inputs),targets)\n",
    "print(loss)"
   ]
  },
  {
   "cell_type": "code",
   "execution_count": 27,
   "metadata": {},
   "outputs": [],
   "source": [
    "opt=torch.optim.SGD(model.parameters(),lr=1e-5)"
   ]
  },
  {
   "cell_type": "code",
   "execution_count": 30,
   "metadata": {},
   "outputs": [],
   "source": [
    "def fit(num_epochs,model, loss_fn,opt):\n",
    "    for epoch in range(num_epochs):\n",
    "        for xb,yb in train_dl:\n",
    "            pred=model(xb)\n",
    "            loss=loss_fn(pred,yb)\n",
    "            loss.backward()\n",
    "            opt.step()\n",
    "            opt.zero_grad()\n",
    "\n",
    "        if(epoch+1)%10==0:\n",
    "            print('Epoch [{}/{}, Loss: {:.4f}'.format(epoch+1,num_epochs,loss.item()))"
   ]
  },
  {
   "cell_type": "code",
   "execution_count": 38,
   "metadata": {},
   "outputs": [
    {
     "name": "stdout",
     "output_type": "stream",
     "text": [
      "Epoch [10/500, Loss: 0.5455\n",
      "Epoch [20/500, Loss: 0.5449\n",
      "Epoch [30/500, Loss: 0.5443\n",
      "Epoch [40/500, Loss: 0.5437\n",
      "Epoch [50/500, Loss: 0.5431\n",
      "Epoch [60/500, Loss: 0.5425\n",
      "Epoch [70/500, Loss: 0.5420\n",
      "Epoch [80/500, Loss: 0.5414\n",
      "Epoch [90/500, Loss: 0.5409\n",
      "Epoch [100/500, Loss: 0.5403\n",
      "Epoch [110/500, Loss: 0.5398\n",
      "Epoch [120/500, Loss: 0.5393\n",
      "Epoch [130/500, Loss: 0.5388\n",
      "Epoch [140/500, Loss: 0.5383\n",
      "Epoch [150/500, Loss: 0.5378\n",
      "Epoch [160/500, Loss: 0.5373\n",
      "Epoch [170/500, Loss: 0.5369\n",
      "Epoch [180/500, Loss: 0.5364\n",
      "Epoch [190/500, Loss: 0.5360\n",
      "Epoch [200/500, Loss: 0.5355\n",
      "Epoch [210/500, Loss: 0.5351\n",
      "Epoch [220/500, Loss: 0.5347\n",
      "Epoch [230/500, Loss: 0.5342\n",
      "Epoch [240/500, Loss: 0.5338\n",
      "Epoch [250/500, Loss: 0.5334\n",
      "Epoch [260/500, Loss: 0.5330\n",
      "Epoch [270/500, Loss: 0.5326\n",
      "Epoch [280/500, Loss: 0.5323\n",
      "Epoch [290/500, Loss: 0.5319\n",
      "Epoch [300/500, Loss: 0.5315\n",
      "Epoch [310/500, Loss: 0.5311\n",
      "Epoch [320/500, Loss: 0.5308\n",
      "Epoch [330/500, Loss: 0.5304\n",
      "Epoch [340/500, Loss: 0.5301\n",
      "Epoch [350/500, Loss: 0.5298\n",
      "Epoch [360/500, Loss: 0.5294\n",
      "Epoch [370/500, Loss: 0.5291\n",
      "Epoch [380/500, Loss: 0.5288\n",
      "Epoch [390/500, Loss: 0.5285\n",
      "Epoch [400/500, Loss: 0.5282\n",
      "Epoch [410/500, Loss: 0.5279\n",
      "Epoch [420/500, Loss: 0.5276\n",
      "Epoch [430/500, Loss: 0.5273\n",
      "Epoch [440/500, Loss: 0.5270\n",
      "Epoch [450/500, Loss: 0.5267\n",
      "Epoch [460/500, Loss: 0.5265\n",
      "Epoch [470/500, Loss: 0.5262\n",
      "Epoch [480/500, Loss: 0.5259\n",
      "Epoch [490/500, Loss: 0.5257\n",
      "Epoch [500/500, Loss: 0.5254\n"
     ]
    }
   ],
   "source": [
    "fit(500,model,loss_fn,opt)"
   ]
  },
  {
   "cell_type": "code",
   "execution_count": 39,
   "metadata": {},
   "outputs": [
    {
     "data": {
      "text/plain": [
       "tensor([[ 57.1285,  70.3289],\n",
       "        [ 82.1529, 100.5839],\n",
       "        [118.8740, 133.1231],\n",
       "        [ 21.1359,  37.0605],\n",
       "        [101.7398, 118.9734]], grad_fn=<AddmmBackward0>)"
      ]
     },
     "execution_count": 39,
     "metadata": {},
     "output_type": "execute_result"
    }
   ],
   "source": [
    "preds=model(inputs)\n",
    "preds"
   ]
  },
  {
   "cell_type": "code",
   "execution_count": 40,
   "metadata": {},
   "outputs": [
    {
     "data": {
      "text/plain": [
       "tensor([[ 56.,  70.],\n",
       "        [ 81., 101.],\n",
       "        [119., 133.],\n",
       "        [ 22.,  37.],\n",
       "        [103., 119.]])"
      ]
     },
     "execution_count": 40,
     "metadata": {},
     "output_type": "execute_result"
    }
   ],
   "source": [
    "targets"
   ]
  },
  {
   "cell_type": "code",
   "execution_count": null,
   "metadata": {},
   "outputs": [],
   "source": []
  }
 ],
 "metadata": {
  "interpreter": {
   "hash": "e68ad65fa42939f3d1d64c725c73b895c742464099851271a5b593478fe3a0a1"
  },
  "kernelspec": {
   "display_name": "Python 3.7.9 64-bit ('Tensorflow_CPU': conda)",
   "language": "python",
   "name": "python3"
  },
  "language_info": {
   "codemirror_mode": {
    "name": "ipython",
    "version": 3
   },
   "file_extension": ".py",
   "mimetype": "text/x-python",
   "name": "python",
   "nbconvert_exporter": "python",
   "pygments_lexer": "ipython3",
   "version": "3.8.5"
  },
  "orig_nbformat": 4
 },
 "nbformat": 4,
 "nbformat_minor": 2
}
