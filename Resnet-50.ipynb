{
 "cells": [
  {
   "cell_type": "code",
   "execution_count": 1,
   "metadata": {},
   "outputs": [],
   "source": [
    "import torch\n",
    "import os\n",
    "import torchvision\n",
    "from torchvision.datasets.utils import download_url\n",
    "from torchvision.datasets import ImageFolder\n",
    "import torchvision.transforms as tt\n",
    "from torchvision.transforms import ToTensor\n",
    "%matplotlib inline\n",
    "import matplotlib.pyplot as plt\n",
    "import numpy as np\n",
    "from torch.utils.data.sampler import SubsetRandomSampler\n",
    "from torch.utils.data.dataloader import DataLoader\n",
    "from torchvision.utils import make_grid\n",
    "import torch.nn as nn\n",
    "import torch.nn.functional as F"
   ]
  },
  {
   "cell_type": "code",
   "execution_count": 2,
   "metadata": {},
   "outputs": [
    {
     "name": "stdout",
     "output_type": "stream",
     "text": [
      "['test', 'train']\n",
      "['airplane', 'automobile', 'bird', 'cat', 'deer', 'dog', 'frog', 'horse', 'ship', 'truck']\n"
     ]
    }
   ],
   "source": [
    "data_dir='./data/cifar10'\n",
    "print(os.listdir(data_dir))\n",
    "classes=os.listdir(data_dir+\"/train\")\n",
    "print(classes)"
   ]
  },
  {
   "cell_type": "code",
   "execution_count": 3,
   "metadata": {},
   "outputs": [],
   "source": [
    "stats=((0.4914,0.4822,0.4465),(0.2023,0.1994,0.2010))\n",
    "train_tfms=tt.Compose([tt.RandomCrop(32,padding=4,padding_mode='reflect'),tt.RandomHorizontalFlip(),tt.ToTensor(),tt.Normalize(*stats)])\n",
    "valid_tfms=tt.Compose([tt.ToTensor(),tt.Normalize(*stats)])"
   ]
  },
  {
   "cell_type": "code",
   "execution_count": 4,
   "metadata": {},
   "outputs": [],
   "source": [
    "train_ds=ImageFolder(data_dir+'/train',train_tfms)\n",
    "valid_ds=ImageFolder(data_dir+'/test',valid_tfms)"
   ]
  },
  {
   "cell_type": "code",
   "execution_count": 5,
   "metadata": {},
   "outputs": [],
   "source": [
    "batch_size=256\n",
    "train_dl=DataLoader(train_ds,batch_size,shuffle=True,num_workers=8,pin_memory=True)\n",
    "valid_dl=DataLoader(valid_ds,batch_size,shuffle=False,num_workers=8,pin_memory=True)"
   ]
  },
  {
   "cell_type": "code",
   "execution_count": 6,
   "metadata": {},
   "outputs": [],
   "source": [
    "def show_batch(dl):\n",
    "    for images,labels in dl:\n",
    "        fig,ax=plt.subplots(figsize=(16,16))\n",
    "        ax.set_xticks([]);ax.set_yticks([])\n",
    "        ax.imshow(make_grid(images[:100],10).permute(1,2,0))\n",
    "        break"
   ]
  },
  {
   "cell_type": "code",
   "execution_count": 31,
   "metadata": {},
   "outputs": [],
   "source": [
    "show_batch(train_dl)"
   ]
  },
  {
   "cell_type": "code",
   "execution_count": 7,
   "metadata": {},
   "outputs": [],
   "source": [
    "class SimpleResidualBlock(nn.Module):\n",
    "    def __init__(self):\n",
    "        super().__init__()\n",
    "        self.conv1=nn.Conv2d(in_channels=3,out_channels=3,kernel_size=3,stride=1,padding=1)\n",
    "        self.relu1=nn.ReLU()\n",
    "        self.conv2=nn.Conv2d(in_channels=3,out_channels=3,kernel_size=3,stride=1,padding=1)\n",
    "        self.relu2=nn.ReLU()\n",
    "\n",
    "    def forward(self,x):\n",
    "        out=self.conv1(x)\n",
    "        out=self.relu1(out)\n",
    "        out=self.conv2(out)\n",
    "        return self.relu2(out+x)"
   ]
  },
  {
   "cell_type": "code",
   "execution_count": 15,
   "metadata": {},
   "outputs": [],
   "source": [
    "simple_resnet=SimpleResidualBlock()\n",
    "for images,labels in train_dl:  \n",
    "    out=simple_resnet(images)\n",
    "    print(out.shape)\n",
    "    break"
   ]
  },
  {
   "cell_type": "code",
   "execution_count": 8,
   "metadata": {},
   "outputs": [],
   "source": [
    "def conv_3d(ni,nf,stride=1,ks=3):\n",
    "    return nn.Conv2d(in_channels=ni,out_channels=nf,kernel_size=ks,stride=stride,padding=ks//2,bias=False) \n",
    "\n",
    "def bn_relu_conv(ni,nf):\n",
    "    return nn.Sequential(nn.BatchNorm2d(ni),nn.ReLU(inplace=True),conv_2d(ni,nf))\n",
    "\n",
    "class ResidualBlock(nn.Module):\n",
    "    def __init__(self,ni,nf,stride=1):\n",
    "        super().__init__()\n",
    "        self.bn=nn.BatchNorm2d(ni)\n",
    "        self.conv1=conv_2d(ni,nf,stride)\n",
    "        self.conv2=bn_relu_conv(nf,nf)\n",
    "        self.shortcut=lambda x:x\n",
    "        if ni!=nf:\n",
    "            self.shortcut=conv_2d(ni,nf,stride,1)\n",
    "    \n",
    "    def forward(self,x):\n",
    "        x=F.relu(self.bn(x),inplace=True)\n",
    "        r=self.shortcut(x)\n",
    "        x=self.conv1(x)\n",
    "        x=self.conv2(x)*0.2\n",
    "        return x.add_(r)"
   ]
  },
  {
   "cell_type": "code",
   "execution_count": null,
   "metadata": {},
   "outputs": [],
   "source": [
    "def make_group(N,ni,nf,stride):\n",
    "    start=ResidualBlock(ni,nf,stride)\n",
    "    rest=[ResidualBlock(nf,nf) for j in range(1,N)]\n",
    "    return [start]+rest\n",
    "\n",
    "class Flatten(nn.Module):\n",
    "    def __init__(self): super().__init__()\n",
    "    def forward(self,x):return x.view(x.size(0),-1)\n",
    "\n",
    "class WideResNet(nn.Module):\n",
    "    def __init__(self,n_groups,N,n_classes,k=1,n_start=16):\n",
    "        super().__init__()\n",
    "        layers=[conv2d(3,n_start)]\n",
    "        n_channels=[n_start]\n",
    "        "
   ]
  }
 ],
 "metadata": {
  "interpreter": {
   "hash": "e76a616202f8a8b2a32c1eadd0322a3f472543fa8b4cbf2c2d09118407aaec5c"
  },
  "kernelspec": {
   "display_name": "Python 3.9.7 64-bit ('pytorch': conda)",
   "language": "python",
   "name": "python3"
  },
  "language_info": {
   "codemirror_mode": {
    "name": "ipython",
    "version": 3
   },
   "file_extension": ".py",
   "mimetype": "text/x-python",
   "name": "python",
   "nbconvert_exporter": "python",
   "pygments_lexer": "ipython3",
   "version": "3.9.7"
  },
  "orig_nbformat": 4
 },
 "nbformat": 4,
 "nbformat_minor": 2
}
