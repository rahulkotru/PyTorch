{
 "cells": [
  {
   "cell_type": "code",
   "execution_count": 46,
   "metadata": {},
   "outputs": [],
   "source": [
    "import torch\n",
    "import matplotlib.pyplot as plt\n",
    "%matplotlib inline\n",
    "import numpy as np\n",
    "from torchvision.datasets import MNIST\n",
    "from torchvision.transforms import ToTensor\n",
    "from torch.utils.data.sampler import SubsetRandomSampler\n",
    "from torch.utils.data.dataloader import DataLoader\n",
    "import torch.nn as nn\n",
    "import torch.nn.functional as F"
   ]
  },
  {
   "cell_type": "code",
   "execution_count": 47,
   "metadata": {},
   "outputs": [],
   "source": [
    "dataset=MNIST(root='data/', download=False,transform=ToTensor())"
   ]
  },
  {
   "cell_type": "code",
   "execution_count": 48,
   "metadata": {},
   "outputs": [
    {
     "data": {
      "text/plain": [
       "(torch.Size([1, 28, 28]), 5)"
      ]
     },
     "execution_count": 48,
     "metadata": {},
     "output_type": "execute_result"
    }
   ],
   "source": [
    "img,label=dataset[0]\n",
    "img.shape,label"
   ]
  },
  {
   "cell_type": "code",
   "execution_count": 49,
   "metadata": {},
   "outputs": [
    {
     "data": {
      "text/plain": [
       "<matplotlib.image.AxesImage at 0x25ceaabd280>"
      ]
     },
     "execution_count": 49,
     "metadata": {},
     "output_type": "execute_result"
    },
    {
     "data": {
      "image/png": "[encoded data removed]",
      "text/plain": [
       "<Figure size 432x288 with 1 Axes>"
      ]
     },
     "metadata": {
      "needs_background": "light"
     },
     "output_type": "display_data"
    }
   ],
   "source": [
    "plt.imshow(img[0],cmap='gray')"
   ]
  },
  {
   "cell_type": "code",
   "execution_count": 50,
   "metadata": {},
   "outputs": [],
   "source": [
    "def split_indices(n,val_pct):\n",
    "    n_val=int(val_pct*n)\n",
    "    idxs=np.random.permutation(n)\n",
    "    return idxs[n_val:],idxs[:n_val]"
   ]
  },
  {
   "cell_type": "code",
   "execution_count": 51,
   "metadata": {},
   "outputs": [
    {
     "name": "stdout",
     "output_type": "stream",
     "text": [
      "48000 12000\n",
      "Sample val indices:  [27181 12127 44131  2530 32028 49815  9979 17736 58481 56314  6301 45015\n",
      "  3323 55882 14415 17459 42311 38334 27779 26973]\n"
     ]
    }
   ],
   "source": [
    "train_indices,val_indices=split_indices(len(dataset),val_pct=0.2)\n",
    "print(len(train_indices),len(val_indices))\n",
    "print('Sample val indices: ',val_indices[:20])"
   ]
  },
  {
   "cell_type": "code",
   "execution_count": 52,
   "metadata": {},
   "outputs": [],
   "source": [
    "batch_size=100\n",
    "train_sampler=SubsetRandomSampler(train_indices)\n",
    "train_dl=DataLoader(dataset,batch_size,sampler=train_sampler)\n",
    "valid_sampler=SubsetRandomSampler(val_indices)\n",
    "valid_dl=DataLoader(dataset,batch_size,sampler=valid_sampler)"
   ]
  },
  {
   "cell_type": "code",
   "execution_count": 53,
   "metadata": {},
   "outputs": [],
   "source": [
    "class MnistModel(nn.Module):\n",
    "    def __init__(self,in_size,hidden_size,out_size):\n",
    "        super().__init__()\n",
    "        self.linear1=nn.Linear(in_size,hidden_size)\n",
    "        self.linear2=nn.Linear(hidden_size, out_size)\n",
    "\n",
    "    def forward(self,xb):\n",
    "        xb=xb.view(xb.size(0),-1)\n",
    "        out=self.linear1(xb)\n",
    "        out=F.relu(out)\n",
    "        out=self.linear2(out)\n",
    "        return out"
   ]
  },
  {
   "cell_type": "code",
   "execution_count": 54,
   "metadata": {},
   "outputs": [],
   "source": [
    "input_size=784\n",
    "num_classes=10\n",
    "model=MnistModel(input_size,hidden_size=32,out_size=num_classes)"
   ]
  },
  {
   "cell_type": "code",
   "execution_count": 55,
   "metadata": {},
   "outputs": [
    {
     "name": "stdout",
     "output_type": "stream",
     "text": [
      "torch.Size([32, 784])\n",
      "torch.Size([32])\n",
      "torch.Size([10, 32])\n",
      "torch.Size([10])\n"
     ]
    }
   ],
   "source": [
    "for t in model.parameters():\n",
    "    print(t.shape)"
   ]
  },
  {
   "cell_type": "code",
   "execution_count": 57,
   "metadata": {},
   "outputs": [
    {
     "name": "stdout",
     "output_type": "stream",
     "text": [
      "images.shape:  torch.Size([100, 1, 28, 28])\n",
      "Loss:  2.311738967895508\n",
      "outputs.shape:  torch.Size([100, 10])\n",
      "Sample outputs: \n",
      " tensor([[0.0857, 0.1170, 0.0839, 0.1027, 0.0930, 0.0923, 0.1169, 0.1114, 0.1033,\n",
      "         0.0938],\n",
      "        [0.0962, 0.1198, 0.0903, 0.1002, 0.0891, 0.1005, 0.1021, 0.0958, 0.1019,\n",
      "         0.1040]])\n"
     ]
    },
    {
     "name": "stderr",
     "output_type": "stream",
     "text": [
      "C:\\Users\\rrkot\\AppData\\Local\\Temp\\ipykernel_24432\\681054329.py:8: UserWarning: Implicit dimension choice for softmax has been deprecated. Change the call to include dim=X as an argument.\n",
      "  print('Sample outputs: \\n',F.softmax(outputs)[:2].data)\n"
     ]
    }
   ],
   "source": [
    "for images,labels in train_dl:\n",
    "    print('images.shape: ',images.shape)\n",
    "    outputs=model(images)\n",
    "    loss=F.cross_entropy(outputs,labels)\n",
    "    print('Loss: ',loss.item())\n",
    "    break\n",
    "print('outputs.shape: ',outputs.shape)\n",
    "print('Sample outputs: \\n',outputs[:2].data)"
   ]
  },
  {
   "cell_type": "code",
   "execution_count": 58,
   "metadata": {},
   "outputs": [
    {
     "data": {
      "text/plain": [
       "True"
      ]
     },
     "execution_count": 58,
     "metadata": {},
     "output_type": "execute_result"
    }
   ],
   "source": [
    "torch.cuda.is_available()"
   ]
  },
  {
   "cell_type": "code",
   "execution_count": 61,
   "metadata": {},
   "outputs": [],
   "source": [
    "def get_default_device():\n",
    "    if torch.cuda.is_available():\n",
    "        return torch.device('cuda')\n",
    "    else:\n",
    "        torch.device('cpu')\n"
   ]
  },
  {
   "cell_type": "code",
   "execution_count": 62,
   "metadata": {},
   "outputs": [
    {
     "data": {
      "text/plain": [
       "device(type='cuda')"
      ]
     },
     "execution_count": 62,
     "metadata": {},
     "output_type": "execute_result"
    }
   ],
   "source": [
    "device=get_default_device()\n",
    "device"
   ]
  },
  {
   "cell_type": "code",
   "execution_count": 63,
   "metadata": {},
   "outputs": [],
   "source": [
    "def to_device(data,device):\n",
    "    if isinstance(data,(list,tuple)):\n",
    "        return[to_device(x,device) for x in data]\n",
    "    return data.to(device, non_blocking=True)"
   ]
  },
  {
   "cell_type": "code",
   "execution_count": 64,
   "metadata": {},
   "outputs": [
    {
     "name": "stdout",
     "output_type": "stream",
     "text": [
      "torch.Size([100, 1, 28, 28])\n",
      "cuda:0\n"
     ]
    }
   ],
   "source": [
    "for images, labels in train_dl:\n",
    "    print(images.shape)\n",
    "    images=to_device(images,device)\n",
    "    print(images.device)\n",
    "    break\n"
   ]
  },
  {
   "cell_type": "code",
   "execution_count": 66,
   "metadata": {},
   "outputs": [],
   "source": [
    "class DeviceDataLoader():\n",
    "    def __init__(self,dl,device):\n",
    "        self.dl=dl\n",
    "        self.device=device\n",
    "    def __iter__(self):\n",
    "        for b in self.dl:\n",
    "            yield to_device(b,self.device)\n",
    "    def __len__(self):\n",
    "        return(self.dl)"
   ]
  },
  {
   "cell_type": "code",
   "execution_count": 67,
   "metadata": {},
   "outputs": [],
   "source": [
    "train_dl=DeviceDataLoader(train_dl,device)\n",
    "valid_dl=DeviceDataLoader(valid_dl,device)"
   ]
  },
  {
   "cell_type": "code",
   "execution_count": 68,
   "metadata": {},
   "outputs": [
    {
     "name": "stdout",
     "output_type": "stream",
     "text": [
      "xb.device:  cuda:0\n",
      "yb tensor([9, 3, 5, 9, 1, 8, 7, 0, 9, 6, 0, 8, 6, 8, 9, 8, 0, 0, 5, 0, 7, 8, 5, 7,\n",
      "        9, 4, 8, 7, 3, 0, 2, 7, 0, 7, 7, 3, 0, 3, 0, 5, 1, 8, 8, 5, 6, 0, 7, 8,\n",
      "        2, 1, 3, 2, 3, 9, 4, 5, 6, 7, 6, 6, 7, 5, 1, 3, 7, 3, 0, 4, 7, 3, 6, 8,\n",
      "        1, 3, 5, 2, 5, 4, 9, 3, 6, 7, 5, 8, 9, 1, 0, 0, 2, 3, 6, 4, 3, 9, 3, 7,\n",
      "        7, 2, 4, 5], device='cuda:0')\n"
     ]
    }
   ],
   "source": [
    "for xb,yb in valid_dl:\n",
    "    print('xb.device: ',xb.device)\n",
    "    print('yb', yb)\n",
    "    break"
   ]
  },
  {
   "cell_type": "code",
   "execution_count": 69,
   "metadata": {},
   "outputs": [],
   "source": [
    "def loss_batch(model,loss_func,xb,yb,opt=None,metric=None):\n",
    "    preds=model(xb)\n",
    "    loss=loss_func(preds,yb)\n",
    "\n",
    "    if opt is not None:\n",
    "        loss.backward()\n",
    "        opt.step()\n",
    "        opt.zero_grad()\n",
    "\n",
    "    metric_result=None\n",
    "    if metric is not None:\n",
    "        metric_result=metric(preds,yb)\n",
    "\n",
    "    return loss.item(),len(xb),metric_result\n"
   ]
  },
  {
   "cell_type": "code",
   "execution_count": 92,
   "metadata": {},
   "outputs": [],
   "source": [
    "def evaluate(model,loss_fn,valid_dl,metric=None):\n",
    "    with torch.no_grad():\n",
    "        results=[loss_batch(model,loss_fn,xb,yb,metric=metric) for xb,yb in valid_dl]\n",
    "        losses,nums,metrics=zip(*results)\n",
    "        total=np.sum(nums)\n",
    "        avg_loss=np.sum(np.multiply(losses,nums))/total\n",
    "        avg_metric=None\n",
    "        if metric is not None:\n",
    "            avg_metric=np.sum(np.multiply(metrics,nums))/total\n",
    "    return avg_loss, total, avg_metric"
   ]
  },
  {
   "cell_type": "code",
   "execution_count": 93,
   "metadata": {},
   "outputs": [],
   "source": [
    "def fit(epochs,lr,model,loss_fn,train_dl,valid_dl,metric=None,opt_fn=None):\n",
    "    losses,metrics=[],[]\n",
    "\n",
    "    if opt_fn is None:opt_fn=torch.optim.SGD\n",
    "    opt=opt_fn(model.parameters(),lr=lr)\n",
    "\n",
    "    for epoch in range(epochs):\n",
    "        for xb,yb in train_dl:\n",
    "            loss,_,_=loss_batch(model,loss_fn,xb,yb,opt)\n",
    "\n",
    "        result=evaluate(model,loss_fn,valid_dl,metric)\n",
    "        val_loss,total,val_metric=result\n",
    "\n",
    "        losses.append(val_loss)\n",
    "        metrics.append(val_metric)\n",
    "\n",
    "        if metric is None:\n",
    "            print('Epoch[{}/{}], Loss: {:.4f}'.format(epoch+1,epochs,val_loss))\n",
    "        else:\n",
    "            print('Epoch[{}/{}, Loss: {:.4f}'.format(epoch+1,epochs,val_loss,metric.__name__,val_metric))\n",
    "    return losses,metrics"
   ]
  },
  {
   "cell_type": "code",
   "execution_count": 94,
   "metadata": {},
   "outputs": [],
   "source": [
    "def accuracy(outputs,labels):\n",
    "    _,preds=torch.max(outputs,dim=1)\n",
    "    return torch.sum(preds==labels).item()/len(preds)"
   ]
  },
  {
   "cell_type": "code",
   "execution_count": 95,
   "metadata": {},
   "outputs": [
    {
     "data": {
      "text/plain": [
       "MnistModel(\n",
       "  (linear1): Linear(in_features=784, out_features=32, bias=True)\n",
       "  (linear2): Linear(in_features=32, out_features=10, bias=True)\n",
       ")"
      ]
     },
     "execution_count": 95,
     "metadata": {},
     "output_type": "execute_result"
    }
   ],
   "source": [
    "model=MnistModel(input_size,hidden_size=32,out_size=num_classes)\n",
    "to_device(model,device)"
   ]
  },
  {
   "cell_type": "code",
   "execution_count": 96,
   "metadata": {},
   "outputs": [
    {
     "name": "stdout",
     "output_type": "stream",
     "text": [
      "Loss: 2.3062, Accuracy: 0.0858\n"
     ]
    }
   ],
   "source": [
    "val_loss,total,val_acc=evaluate(model,F.cross_entropy,valid_dl,metric=accuracy)\n",
    "print('Loss: {:.4f}, Accuracy: {:.4f}'.format(val_loss,val_acc))"
   ]
  },
  {
   "cell_type": "code",
   "execution_count": 98,
   "metadata": {},
   "outputs": [
    {
     "name": "stdout",
     "output_type": "stream",
     "text": [
      "Epoch[1/10, Loss: 0.1705\n",
      "Epoch[2/10, Loss: 0.1473\n",
      "Epoch[3/10, Loss: 0.1427\n",
      "Epoch[4/10, Loss: 0.1452\n",
      "Epoch[5/10, Loss: 0.1381\n",
      "Epoch[6/10, Loss: 0.1354\n",
      "Epoch[7/10, Loss: 0.1353\n",
      "Epoch[8/10, Loss: 0.1467\n",
      "Epoch[9/10, Loss: 0.1466\n",
      "Epoch[10/10, Loss: 0.1567\n"
     ]
    }
   ],
   "source": [
    "losses1,metric1=fit(10,0.5,model,F.cross_entropy,train_dl,valid_dl,accuracy)"
   ]
  },
  {
   "cell_type": "code",
   "execution_count": 99,
   "metadata": {},
   "outputs": [
    {
     "data": {
      "text/plain": [
       "Text(0.5, 1.0, 'Accuracy vs Epochs')"
      ]
     },
     "execution_count": 99,
     "metadata": {},
     "output_type": "execute_result"
    },
    {
     "data": {
      "image/png": "[encoded data removed]",
      "text/plain": [
       "<Figure size 432x288 with 1 Axes>"
      ]
     },
     "metadata": {
      "needs_background": "light"
     },
     "output_type": "display_data"
    }
   ],
   "source": [
    "accuracies=[val_acc]+metric1\n",
    "plt.plot(accuracies,'-x')\n",
    "plt.xlabel('Epochs')\n",
    "plt.ylabel('Accuracy')\n",
    "plt.title('Accuracy vs Epochs')"
   ]
  },
  {
   "cell_type": "code",
   "execution_count": null,
   "metadata": {},
   "outputs": [],
   "source": []
  }
 ],
 "metadata": {
  "interpreter": {
   "hash": "e76a616202f8a8b2a32c1eadd0322a3f472543fa8b4cbf2c2d09118407aaec5c"
  },
  "kernelspec": {
   "display_name": "Python 3.9.7 64-bit ('pytorch': conda)",
   "language": "python",
   "name": "python3"
  },
  "language_info": {
   "codemirror_mode": {
    "name": "ipython",
    "version": 3
   },
   "file_extension": ".py",
   "mimetype": "text/x-python",
   "name": "python",
   "nbconvert_exporter": "python",
   "pygments_lexer": "ipython3",
   "version": "3.9.7"
  },
  "orig_nbformat": 4
 },
 "nbformat": 4,
 "nbformat_minor": 2
}
