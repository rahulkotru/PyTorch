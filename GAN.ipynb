{
 "cells": [
  {
   "cell_type": "code",
   "execution_count": 1,
   "metadata": {},
   "outputs": [],
   "source": [
    "import torch\n",
    "import torchvision\n",
    "from torchvision.transforms import ToTensor,Normalize,Compose\n",
    "from torchvision.datasets import MNIST\n",
    "\n"
   ]
  },
  {
   "cell_type": "code",
   "execution_count": 2,
   "metadata": {},
   "outputs": [],
   "source": [
    "mnist=MNIST(root='data',train=True,download=False,transform=Compose([ToTensor(),Normalize(mean=(0.5,),std=(0.5,))]))"
   ]
  },
  {
   "cell_type": "code",
   "execution_count": 3,
   "metadata": {},
   "outputs": [
    {
     "name": "stdout",
     "output_type": "stream",
     "text": [
      "Label:  5\n",
      "tensor([[[-0.9922,  0.2078,  0.9843, -0.2941, -1.0000],\n",
      "         [-1.0000,  0.0902,  0.9843,  0.4902, -0.9843],\n",
      "         [-1.0000, -0.9137,  0.4902,  0.9843, -0.4510],\n",
      "         [-1.0000, -1.0000, -0.7255,  0.8902,  0.7647],\n",
      "         [-1.0000, -1.0000, -1.0000, -0.3647,  0.8824]]])\n"
     ]
    },
    {
     "data": {
      "text/plain": [
       "(tensor(-1.), tensor(1.))"
      ]
     },
     "execution_count": 3,
     "metadata": {},
     "output_type": "execute_result"
    }
   ],
   "source": [
    "img,label=mnist[0]\n",
    "print('Label: ',label)\n",
    "print(img[:,10:15,10:15])\n",
    "torch.min(img),torch.max(img)"
   ]
  },
  {
   "cell_type": "code",
   "execution_count": null,
   "metadata": {},
   "outputs": [],
   "source": []
  }
 ],
 "metadata": {
  "interpreter": {
   "hash": "e76a616202f8a8b2a32c1eadd0322a3f472543fa8b4cbf2c2d09118407aaec5c"
  },
  "kernelspec": {
   "display_name": "Python 3.9.7 ('pytorch')",
   "language": "python",
   "name": "python3"
  },
  "language_info": {
   "codemirror_mode": {
    "name": "ipython",
    "version": 3
   },
   "file_extension": ".py",
   "mimetype": "text/x-python",
   "name": "python",
   "nbconvert_exporter": "python",
   "pygments_lexer": "ipython3",
   "version": "3.9.7"
  },
  "orig_nbformat": 4
 },
 "nbformat": 4,
 "nbformat_minor": 2
}
