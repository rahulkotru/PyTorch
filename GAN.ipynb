{
 "cells": [
  {
   "cell_type": "code",
   "execution_count": 29,
   "metadata": {},
   "outputs": [],
   "source": [
    "import torch\n",
    "import torchvision\n",
    "from torchvision.transforms import ToTensor,Normalize,Compose\n",
    "from torchvision.datasets import MNIST\n",
    "import matplotlib\n",
    "import matplotlib.pyplot as plt\n",
    "%matplotlib inline\n",
    "from torch.utils.data import DataLoader\n",
    "import torch.nn as nn\n",
    "import os\n",
    "from IPython.display import Image\n",
    "from torchvision.utils import save_image"
   ]
  },
  {
   "cell_type": "code",
   "execution_count": 2,
   "metadata": {},
   "outputs": [],
   "source": [
    "mnist=MNIST(root='data',train=True,download=False,transform=Compose([ToTensor(),Normalize(mean=(0.5,),std=(0.5,))]))"
   ]
  },
  {
   "cell_type": "code",
   "execution_count": 3,
   "metadata": {},
   "outputs": [
    {
     "name": "stdout",
     "output_type": "stream",
     "text": [
      "Label:  5\n",
      "tensor([[[-0.9922,  0.2078,  0.9843, -0.2941, -1.0000],\n",
      "         [-1.0000,  0.0902,  0.9843,  0.4902, -0.9843],\n",
      "         [-1.0000, -0.9137,  0.4902,  0.9843, -0.4510],\n",
      "         [-1.0000, -1.0000, -0.7255,  0.8902,  0.7647],\n",
      "         [-1.0000, -1.0000, -1.0000, -0.3647,  0.8824]]])\n"
     ]
    },
    {
     "data": {
      "text/plain": [
       "(tensor(-1.), tensor(1.))"
      ]
     },
     "execution_count": 3,
     "metadata": {},
     "output_type": "execute_result"
    }
   ],
   "source": [
    "img,label=mnist[0]\n",
    "print('Label: ',label)\n",
    "print(img[:,10:15,10:15])\n",
    "torch.min(img),torch.max(img)"
   ]
  },
  {
   "cell_type": "code",
   "execution_count": 4,
   "metadata": {},
   "outputs": [],
   "source": [
    "def denorm(x):\n",
    "    out=(x+1)/2\n",
    "    return out.clamp(0,1)"
   ]
  },
  {
   "cell_type": "code",
   "execution_count": 5,
   "metadata": {},
   "outputs": [
    {
     "name": "stdout",
     "output_type": "stream",
     "text": [
      "Label:  5\n"
     ]
    },
    {
     "data": {
      "image/png": "[encoded data removed]",
      "text/plain": [
       "<Figure size 432x288 with 1 Axes>"
      ]
     },
     "metadata": {
      "needs_background": "light"
     },
     "output_type": "display_data"
    }
   ],
   "source": [
    "img_norm=denorm(img)\n",
    "plt.imshow(img_norm[0],cmap='gray')\n",
    "print('Label: ',label)"
   ]
  },
  {
   "cell_type": "code",
   "execution_count": 6,
   "metadata": {},
   "outputs": [],
   "source": [
    "batch_size=100\n",
    "data_loader=DataLoader(mnist,batch_size,shuffle=True)"
   ]
  },
  {
   "cell_type": "code",
   "execution_count": 7,
   "metadata": {},
   "outputs": [
    {
     "name": "stdout",
     "output_type": "stream",
     "text": [
      "First Batch\n",
      "torch.Size([100, 1, 28, 28])\n",
      "tensor([9, 8, 9, 6, 8, 9, 4, 4, 1, 2, 9, 3, 2, 0, 4, 1, 5, 5, 7, 5, 1, 3, 2, 0,\n",
      "        7, 3, 1, 5, 9, 3, 6, 3, 4, 7, 8, 2, 4, 0, 2, 2, 1, 3, 2, 3, 1, 2, 3, 6,\n",
      "        5, 2, 0, 2, 4, 5, 1, 2, 4, 0, 8, 8, 9, 8, 2, 4, 1, 1, 0, 3, 6, 1, 8, 5,\n",
      "        8, 6, 9, 3, 4, 8, 2, 8, 7, 3, 0, 1, 6, 4, 1, 5, 5, 5, 9, 1, 7, 6, 9, 2,\n",
      "        2, 1, 5, 9])\n"
     ]
    },
    {
     "data": {
      "image/png": "[encoded data removed]",
      "text/plain": [
       "<Figure size 432x288 with 1 Axes>"
      ]
     },
     "metadata": {
      "needs_background": "light"
     },
     "output_type": "display_data"
    }
   ],
   "source": [
    "for img_batch, label_batch in data_loader:\n",
    "    print('First Batch')\n",
    "    print(img_batch.shape)\n",
    "    plt.imshow(img_batch[0][0],cmap='gray')\n",
    "    print(label_batch)\n",
    "    break"
   ]
  },
  {
   "cell_type": "code",
   "execution_count": 8,
   "metadata": {},
   "outputs": [
    {
     "data": {
      "text/plain": [
       "device(type='cuda')"
      ]
     },
     "execution_count": 8,
     "metadata": {},
     "output_type": "execute_result"
    }
   ],
   "source": [
    "device=torch.device('cuda'if torch.cuda.is_available() else 'gpu')\n",
    "device"
   ]
  },
  {
   "cell_type": "code",
   "execution_count": 9,
   "metadata": {},
   "outputs": [],
   "source": [
    "image_size=784\n",
    "hidden_size=256"
   ]
  },
  {
   "cell_type": "code",
   "execution_count": 10,
   "metadata": {},
   "outputs": [],
   "source": [
    "D=nn.Sequential(nn.Linear(image_size,hidden_size),nn.LeakyReLU(0.2),nn.Linear(hidden_size,hidden_size),nn.LeakyReLU(0.2),nn.Linear(hidden_size,1),nn.Sigmoid())"
   ]
  },
  {
   "cell_type": "code",
   "execution_count": 11,
   "metadata": {},
   "outputs": [],
   "source": [
    "D.to(device);"
   ]
  },
  {
   "cell_type": "code",
   "execution_count": 12,
   "metadata": {},
   "outputs": [],
   "source": [
    "latent_size=64"
   ]
  },
  {
   "cell_type": "code",
   "execution_count": 13,
   "metadata": {},
   "outputs": [],
   "source": [
    "G=nn.Sequential(nn.Linear(latent_size,hidden_size),nn.ReLU(),nn.Linear(hidden_size,hidden_size),nn.ReLU(),nn.Linear(hidden_size,image_size),nn.Tanh())"
   ]
  },
  {
   "cell_type": "code",
   "execution_count": 14,
   "metadata": {},
   "outputs": [],
   "source": [
    "y=G(torch.randn(2,latent_size))\n",
    "gen_imgs=denorm(y.reshape((-1,28,28)).detach())"
   ]
  },
  {
   "cell_type": "code",
   "execution_count": 15,
   "metadata": {},
   "outputs": [
    {
     "data": {
      "text/plain": [
       "<matplotlib.image.AxesImage at 0x2bdb3c46280>"
      ]
     },
     "execution_count": 15,
     "metadata": {},
     "output_type": "execute_result"
    },
    {
     "data": {
      "image/png": "[encoded data removed]",
      "text/plain": [
       "<Figure size 432x288 with 1 Axes>"
      ]
     },
     "metadata": {
      "needs_background": "light"
     },
     "output_type": "display_data"
    }
   ],
   "source": [
    "plt.imshow(gen_imgs[0],cmap='gray')"
   ]
  },
  {
   "cell_type": "code",
   "execution_count": 16,
   "metadata": {},
   "outputs": [],
   "source": [
    "G.to(device);"
   ]
  },
  {
   "cell_type": "code",
   "execution_count": 18,
   "metadata": {},
   "outputs": [],
   "source": [
    "criterion=nn.BCELoss()\n",
    "d_optimizer=torch.optim.Adam(D.parameters(),lr=0.0002)\n",
    "g_optimizer=torch.optim.Adam(G.parameters(),lr=0.0002)"
   ]
  },
  {
   "cell_type": "code",
   "execution_count": 19,
   "metadata": {},
   "outputs": [],
   "source": [
    "def reset_grad():\n",
    "    d_optimizer.zero_grad()\n",
    "    g_optimizer.zero_grad()\n",
    "\n",
    "def train_discriminator(images):\n",
    "    real_labels=torch.ones(batch_size,1).to(device)\n",
    "    fake_labels=torch.zeros(batch_size,1).to(device)\n",
    "\n",
    "    outputs=D(images)\n",
    "    d_loss_real=criterion(outputs,real_labels)\n",
    "    real_score=outputs\n",
    "    z=torch.randn(batch_size,latent_size).to(device)\n",
    "    fake_images=G(z)\n",
    "    outputs=D(fake_images)\n",
    "    d_loss_fake=criterion(outputs,fake_labels)\n",
    "    fake_score=outputs\n",
    "    d_loss=d_loss_real+d_loss_fake\n",
    "    reset_grad()\n",
    "    d_loss.backward()\n",
    "    d_optimizer.step()\n",
    "\n",
    "    return d_loss,real_score,fake_score\n",
    "\n",
    "\n"
   ]
  },
  {
   "cell_type": "code",
   "execution_count": 20,
   "metadata": {},
   "outputs": [],
   "source": [
    "g_optimizer=torch.optim.Adam(G.parameters(),lr=0.0002)"
   ]
  },
  {
   "cell_type": "code",
   "execution_count": 23,
   "metadata": {},
   "outputs": [
    {
     "data": {
      "text/plain": [
       "tensor([[0.5192],\n",
       "        [0.5212],\n",
       "        [0.5187],\n",
       "        [0.5200],\n",
       "        [0.5199],\n",
       "        [0.5212],\n",
       "        [0.5189],\n",
       "        [0.5200],\n",
       "        [0.5207],\n",
       "        [0.5187],\n",
       "        [0.5194],\n",
       "        [0.5208],\n",
       "        [0.5195],\n",
       "        [0.5220],\n",
       "        [0.5197],\n",
       "        [0.5197],\n",
       "        [0.5215],\n",
       "        [0.5225],\n",
       "        [0.5203],\n",
       "        [0.5195],\n",
       "        [0.5201],\n",
       "        [0.5199],\n",
       "        [0.5196],\n",
       "        [0.5196],\n",
       "        [0.5219],\n",
       "        [0.5192],\n",
       "        [0.5217],\n",
       "        [0.5209],\n",
       "        [0.5184],\n",
       "        [0.5192],\n",
       "        [0.5229],\n",
       "        [0.5189],\n",
       "        [0.5217],\n",
       "        [0.5177],\n",
       "        [0.5223],\n",
       "        [0.5172],\n",
       "        [0.5227],\n",
       "        [0.5198],\n",
       "        [0.5207],\n",
       "        [0.5202],\n",
       "        [0.5184],\n",
       "        [0.5204],\n",
       "        [0.5199],\n",
       "        [0.5202],\n",
       "        [0.5200],\n",
       "        [0.5205],\n",
       "        [0.5212],\n",
       "        [0.5215],\n",
       "        [0.5201],\n",
       "        [0.5205],\n",
       "        [0.5207],\n",
       "        [0.5214],\n",
       "        [0.5194],\n",
       "        [0.5207],\n",
       "        [0.5195],\n",
       "        [0.5193],\n",
       "        [0.5185],\n",
       "        [0.5187],\n",
       "        [0.5198],\n",
       "        [0.5208],\n",
       "        [0.5217],\n",
       "        [0.5186],\n",
       "        [0.5199],\n",
       "        [0.5229],\n",
       "        [0.5203],\n",
       "        [0.5237],\n",
       "        [0.5215],\n",
       "        [0.5226],\n",
       "        [0.5195],\n",
       "        [0.5170],\n",
       "        [0.5226],\n",
       "        [0.5234],\n",
       "        [0.5196],\n",
       "        [0.5218],\n",
       "        [0.5189],\n",
       "        [0.5187],\n",
       "        [0.5202],\n",
       "        [0.5219],\n",
       "        [0.5198],\n",
       "        [0.5218],\n",
       "        [0.5234],\n",
       "        [0.5205],\n",
       "        [0.5199],\n",
       "        [0.5207],\n",
       "        [0.5188],\n",
       "        [0.5173],\n",
       "        [0.5208],\n",
       "        [0.5201],\n",
       "        [0.5198],\n",
       "        [0.5210],\n",
       "        [0.5222],\n",
       "        [0.5204],\n",
       "        [0.5216],\n",
       "        [0.5199],\n",
       "        [0.5195],\n",
       "        [0.5207],\n",
       "        [0.5194],\n",
       "        [0.5168],\n",
       "        [0.5203],\n",
       "        [0.5207]], device='cuda:0', grad_fn=<SigmoidBackward0>)"
      ]
     },
     "execution_count": 23,
     "metadata": {},
     "output_type": "execute_result"
    }
   ],
   "source": [
    "z=torch.randn(batch_size,latent_size).to(device)\n",
    "fake_images=G(z)\n",
    "D(fake_images)"
   ]
  },
  {
   "cell_type": "code",
   "execution_count": 25,
   "metadata": {},
   "outputs": [],
   "source": [
    "def train_generator():\n",
    "    z=torch.randn(batch_size,latent_size).to(device)\n",
    "    fake_image=G(z)\n",
    "    labels=torch.ones(batch_size,1).to(device)\n",
    "    g_loss=criterion(D(fake_images),labels)\n",
    "\n",
    "    reset_grad()\n",
    "    g_loss.backward()\n",
    "    g_optimizer.step()\n",
    "    return g_loss,fake_images"
   ]
  },
  {
   "cell_type": "code",
   "execution_count": 28,
   "metadata": {},
   "outputs": [],
   "source": [
    "sample_dir='sample'\n",
    "if not os.path.exists(sample_dir):\n",
    "    os.makedirs(sample_dir)"
   ]
  },
  {
   "cell_type": "code",
   "execution_count": 30,
   "metadata": {},
   "outputs": [
    {
     "data": {
      "image/png": "[encoded data removed]",
      "text/plain": [
       "<IPython.core.display.Image object>"
      ]
     },
     "execution_count": 30,
     "metadata": {},
     "output_type": "execute_result"
    }
   ],
   "source": [
    "for images,_ in data_loader:\n",
    "    images=images.reshape(images.size(0),1,28,28)\n",
    "    save_image(denorm(images),os.path.join(sample_dir,'real_images.png'),nrow=10)\n",
    "    break\n",
    "Image(os.path.join(sample_dir,'real_images.png'))"
   ]
  },
  {
   "cell_type": "code",
   "execution_count": null,
   "metadata": {},
   "outputs": [],
   "source": []
  }
 ],
 "metadata": {
  "interpreter": {
   "hash": "e76a616202f8a8b2a32c1eadd0322a3f472543fa8b4cbf2c2d09118407aaec5c"
  },
  "kernelspec": {
   "display_name": "Python 3.9.7 ('pytorch')",
   "language": "python",
   "name": "python3"
  },
  "language_info": {
   "codemirror_mode": {
    "name": "ipython",
    "version": 3
   },
   "file_extension": ".py",
   "mimetype": "text/x-python",
   "name": "python",
   "nbconvert_exporter": "python",
   "pygments_lexer": "ipython3",
   "version": "3.9.7"
  },
  "orig_nbformat": 4
 },
 "nbformat": 4,
 "nbformat_minor": 2
}
